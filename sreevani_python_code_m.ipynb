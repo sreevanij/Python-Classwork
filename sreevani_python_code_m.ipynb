{
  "cells": [
    {
      "cell_type": "markdown",
      "metadata": {
        "id": "KmDyAPSwjblX"
      },
      "source": [
        "python code m"
      ]
    },
    {
      "cell_type": "markdown",
      "metadata": {
        "id": "qw7OcypTMQvG"
      },
      "source": []
    },
    {
      "cell_type": "markdown",
      "metadata": {
        "id": "WNu5sVPIPUI_"
      },
      "source": [
        "# Setup"
      ]
    },
    {
      "cell_type": "markdown",
      "metadata": {
        "id": "R_rojl1WpLOw"
      },
      "source": [
        "First, create a Python dictionary called `answers`. You will be storing all your answers in this dictionary. At the end of the exam, you will download this dictionary as a json file and submit it.  "
      ]
    },
    {
      "cell_type": "code",
      "execution_count": null,
      "metadata": {
        "id": "no7UuauWkKJd"
      },
      "outputs": [],
      "source": [
        "answers = {}"
      ]
    },
    {
      "cell_type": "markdown",
      "metadata": {
        "id": "9XELsqdUpOVw"
      },
      "source": [
        "Now, add an entry to `answers` called `student_number` which contains  your student number as a string."
      ]
    },
    {
      "cell_type": "code",
      "execution_count": null,
      "metadata": {
        "id": "zQKL47wqpOe2"
      },
      "outputs": [],
      "source": [
        "answers['student_number'] = '12345'"
      ]
    },
    {
      "cell_type": "markdown",
      "metadata": {
        "id": "fIKzOQ-lTC_i"
      },
      "source": [
        "# Question 1"
      ]
    },
    {
      "cell_type": "markdown",
      "metadata": {
        "id": "LLwKQJY1TEA2"
      },
      "source": [
        "Represent the text \"Hello World\" as a Python list of word tokens. Do not apply any standardizations."
      ]
    },
    {
      "cell_type": "code",
      "execution_count": null,
      "metadata": {
        "id": "eTwbCXQBTNUu",
        "colab": {
          "base_uri": "https://localhost:8080/"
        },
        "outputId": "8523d9fe-6ec3-4db5-caf4-be293105e694"
      },
      "outputs": [
        {
          "output_type": "stream",
          "name": "stdout",
          "text": [
            "['Hello', 'World']\n"
          ]
        }
      ],
      "source": [
        "text='Hello World'\n",
        "answers[1] = text.split()# should be a list of strings\n",
        "print(answers[1])"
      ]
    },
    {
      "cell_type": "markdown",
      "metadata": {
        "id": "cQnnS1GMTaA-"
      },
      "source": [
        "# Question 2"
      ]
    },
    {
      "cell_type": "markdown",
      "metadata": {
        "id": "Ozn-e7A7Ta-F"
      },
      "source": [
        "Represent the text \"Hello World\" as a Python list of word tokens. Standardize the tokens so that they are all lowercase."
      ]
    },
    {
      "cell_type": "code",
      "execution_count": null,
      "metadata": {
        "id": "gd4CGGkzTbQv",
        "colab": {
          "base_uri": "https://localhost:8080/"
        },
        "outputId": "408f159e-a262-4f36-c862-00b8b8e14bec"
      },
      "outputs": [
        {
          "output_type": "stream",
          "name": "stdout",
          "text": [
            "['hello', 'world']\n"
          ]
        }
      ],
      "source": [
        "text='Hello World'\n",
        "answers[2] = text.lower().split() # should be a list of strings\n",
        "print(answers[2])"
      ]
    },
    {
      "cell_type": "markdown",
      "metadata": {
        "id": "C7mibm5-Ton3"
      },
      "source": [
        "# Background for Questions 3 and 4"
      ]
    },
    {
      "cell_type": "markdown",
      "metadata": {
        "id": "Y1DnbNBZT3ft"
      },
      "source": [
        "You have a function `tokenize` that takes a string and returns a list of standardized tokens.\n",
        "\n",
        "`tokenize('he went skiing on the hill')`\n",
        "\n",
        "returns\n",
        "\n",
        "`['he','went','ski','on','hill']`"
      ]
    },
    {
      "cell_type": "markdown",
      "metadata": {
        "id": "OY5utTdgUY9P"
      },
      "source": [
        "# Question 3"
      ]
    },
    {
      "cell_type": "markdown",
      "metadata": {
        "id": "wRj0x45eVoZf"
      },
      "source": [
        "What word is being lemmatized to 'ski'?"
      ]
    },
    {
      "cell_type": "code",
      "execution_count": null,
      "metadata": {
        "id": "D7Yixs6wUS2y"
      },
      "outputs": [],
      "source": [
        "answers[3] = 'skiing' # should be a string"
      ]
    },
    {
      "cell_type": "markdown",
      "metadata": {
        "id": "p27AlDAzUdY9"
      },
      "source": [
        "# Question 4"
      ]
    },
    {
      "cell_type": "markdown",
      "metadata": {
        "id": "0yXjIc1UUeP1"
      },
      "source": [
        "What word is being treated as a stop word?"
      ]
    },
    {
      "cell_type": "code",
      "execution_count": null,
      "metadata": {
        "id": "noRBFGbXUdgc"
      },
      "outputs": [],
      "source": [
        "answers[4] = 'the' # should be a string"
      ]
    },
    {
      "cell_type": "markdown",
      "metadata": {
        "id": "jDZR3PR3uk98"
      },
      "source": [
        "# Background for Questions 5 and 6"
      ]
    },
    {
      "cell_type": "markdown",
      "metadata": {
        "id": "H3T0e2Fguk99"
      },
      "source": [
        "You are given the following lexicon:\n",
        "\n",
        "```\n",
        "great = 4.1\n",
        "bad = -3.4\n",
        "good = 2.0\n",
        "amazing = 5.3\n",
        "worst = -4.7\n",
        "horrible = -6.2\n",
        "```"
      ]
    },
    {
      "cell_type": "markdown",
      "metadata": {
        "id": "rtd78k9AwxBF"
      },
      "source": [
        "# Question 5"
      ]
    },
    {
      "cell_type": "markdown",
      "metadata": {
        "id": "913FWyAAwxBF"
      },
      "source": [
        "Score the message \"bad, horrible\""
      ]
    },
    {
      "cell_type": "code",
      "execution_count": null,
      "metadata": {
        "id": "EYkUxrjFwxBG"
      },
      "outputs": [],
      "source": [
        "answers[5] = -9.6 # should be a number"
      ]
    },
    {
      "cell_type": "markdown",
      "metadata": {
        "id": "r8-P_PJww-PC"
      },
      "source": [
        "# Question 6"
      ]
    },
    {
      "cell_type": "markdown",
      "metadata": {
        "id": "rOcA1Nqaw-PD"
      },
      "source": [
        "Score the message \"what an amazing meal\""
      ]
    },
    {
      "cell_type": "code",
      "execution_count": null,
      "metadata": {
        "id": "6VnQmczhw-PD"
      },
      "outputs": [],
      "source": [
        "answers[6] = 5.3 # should be a number"
      ]
    },
    {
      "cell_type": "markdown",
      "metadata": {
        "id": "DVCcShsvx9Zx"
      },
      "source": [
        "# Background for Questions 7, 8, 9, 10, 11 and 12"
      ]
    },
    {
      "cell_type": "markdown",
      "metadata": {
        "id": "HZYBXL9LyTRF"
      },
      "source": [
        "An online retailer has been testing a variety of email promotions. Each promotion offers a certain percentage savings and a different subject line. The retailer is interested in using linear regression to understand how the percentage savings and subject line content are impacting open rate.\n",
        "\n",
        "The dataset `email_subject_lines_data.txt` contains one row for each of 80 previous promotions, along with the following variables:\n",
        "*  `subject_line` the email's subject line\n",
        "*  `coupon_or_sale_flag` 1 if the subject line contains the word 'coupon', 0 if it contains the word 'sale' (for the purposes of this analysis, we are going to assume the main difference between subject lines is whether the word 'coupon' or the word 'sale' was used)\n",
        "*  `savings_pct` the percentage savings offered in the email subject line\n",
        "*  `open_rate` the open rate of the email"
      ]
    },
    {
      "cell_type": "markdown",
      "metadata": {
        "id": "QT20qVe8yBMi"
      },
      "source": [
        "# Question 7"
      ]
    },
    {
      "cell_type": "markdown",
      "metadata": {
        "id": "kscnH1muyEw1"
      },
      "source": [
        "Which variable are you trying to predict?"
      ]
    },
    {
      "cell_type": "code",
      "execution_count": null,
      "metadata": {
        "id": "UWvsuPz4yFQ6"
      },
      "outputs": [],
      "source": [
        "answers[10] = 'open_rate' # should be a string"
      ]
    },
    {
      "cell_type": "markdown",
      "metadata": {
        "id": "ZVPiAVEo1feY"
      },
      "source": [
        "# Question 8"
      ]
    },
    {
      "cell_type": "markdown",
      "metadata": {
        "id": "Cp_FN1nq1fec"
      },
      "source": [
        "Which variable in the dataset is categorical?"
      ]
    },
    {
      "cell_type": "code",
      "execution_count": null,
      "metadata": {
        "id": "lnfVz_Dq1fed"
      },
      "outputs": [],
      "source": [
        "answers[11] = 'coupon_or_sale_flag' # should be a string"
      ]
    },
    {
      "cell_type": "markdown",
      "metadata": {
        "id": "I8_PrmhK1qCr"
      },
      "source": [
        "# Question 9"
      ]
    },
    {
      "cell_type": "markdown",
      "metadata": {
        "id": "wHH73BN61qCv"
      },
      "source": [
        "Which two variables in the dataset are continuous?"
      ]
    },
    {
      "cell_type": "code",
      "execution_count": null,
      "metadata": {
        "id": "0JxTKc4I1qCw"
      },
      "outputs": [],
      "source": [
        "answers[12] = ['savings_pct','open_rate'] # should be a list of strings"
      ]
    },
    {
      "cell_type": "markdown",
      "metadata": {
        "id": "74yxrryj1wS6"
      },
      "source": [
        "# Question 10"
      ]
    },
    {
      "cell_type": "markdown",
      "metadata": {
        "id": "NfSbcfIn1wS8"
      },
      "source": [
        "Your linear regression equation is:\n",
        "\n",
        "`5 - coupon_or_sale_flag*10 + savings_rate*0.25`\n",
        "\n",
        "What do you predict the open rate to be for an email with the subject line \"Get your 40%-off coupon inside!\"?"
      ]
    },
    {
      "cell_type": "code",
      "execution_count": null,
      "metadata": {
        "id": "zNsR5qUz1wS8"
      },
      "outputs": [],
      "source": [
        "answers[13] = 5 # should be an integer (if the answer is 10% you should enter \"10\" not \"10%\" or \"0.10\")"
      ]
    },
    {
      "cell_type": "markdown",
      "metadata": {
        "id": "b8Rrv5Nv2iKQ"
      },
      "source": [
        "# Question 11"
      ]
    },
    {
      "cell_type": "markdown",
      "metadata": {
        "id": "KwKxNptJ2iKT"
      },
      "source": [
        "Your linear regression equation is:\n",
        "\n",
        "`5 - coupon_or_sale_flag*10 + savings_rate*0.25`\n",
        "\n",
        "What do you predict the open rate to be for an email with the subject line \"New sale: 20% off!\"?"
      ]
    },
    {
      "cell_type": "code",
      "execution_count": null,
      "metadata": {
        "id": "1LYdWMQo2iKU"
      },
      "outputs": [],
      "source": [
        "answers[14] = 10 # should be an integer (if the answer is 10% you should enter \"10\" not \"10%\" or \"0.10\")"
      ]
    },
    {
      "cell_type": "markdown",
      "metadata": {
        "id": "gJQqg_Dr2yUY"
      },
      "source": [
        "# Question 12"
      ]
    },
    {
      "cell_type": "markdown",
      "metadata": {
        "id": "AWPCPznZ2yUY"
      },
      "source": [
        "Your linear regression equation is:\n",
        "\n",
        "`5 - coupon_or_sale_flag*10 + savings_rate*0.25`\n",
        "\n",
        "Which word is better to use: \"coupon\" or \"sale\"?"
      ]
    },
    {
      "cell_type": "code",
      "execution_count": null,
      "metadata": {
        "id": "0DR_0pv32yUZ"
      },
      "outputs": [],
      "source": [
        "answers[15] = 'sale' # should be a string (\"sale\" would reduce the negative effect in the equation)"
      ]
    }
  ],
  "metadata": {
    "colab": {
      "provenance": []
    },
    "kernelspec": {
      "display_name": "Python 3",
      "language": "python",
      "name": "python3"
    },
    "language_info": {
      "codemirror_mode": {
        "name": "ipython",
        "version": 3
      },
      "file_extension": ".py",
      "mimetype": "text/x-python",
      "name": "python",
      "nbconvert_exporter": "python",
      "pygments_lexer": "ipython3",
      "version": "3.8.3"
    }
  },
  "nbformat": 4,
  "nbformat_minor": 0
}